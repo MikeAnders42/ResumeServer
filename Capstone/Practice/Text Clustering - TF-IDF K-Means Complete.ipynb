{
 "cells": [
  {
   "cell_type": "markdown",
   "metadata": {},
   "source": [
    "<h1>Building a Simple Search Engine: K-Means Text Clustering Using TF-IDF Weighting</h1>\n",
    "<p>\n",
    "Start by loading in the necessary libraries and the text of the Grimm Fairy Tales (<a href=\"https://www.cs.cmu.edu/~spok/grimmtmp/\">source</a>).\n",
    "</p>"
   ]
  },
  {
   "cell_type": "code",
   "execution_count": 2,
   "metadata": {},
   "outputs": [],
   "source": [
    "import pickle\n",
    "import numpy as np\n",
    "\n",
    "Tales = pickle.load(open('Grimm.pkl', 'rb'))\n",
    "Titles = [title for title in Tales]\n",
    "# Tales is structed as a nested dictionary:\n",
    "#   Tales:\n",
    "#     \"Cinderella\": \n",
    "#          \"text\": [\"There\", \"once\", \"was\", ...]\n",
    "#          ...\n"
   ]
  },
  {
   "cell_type": "markdown",
   "metadata": {},
   "source": [
    "<h1>Bag of Words</h1>\n",
    "Clean and split the raw text blocks  into words. Because we do not want to treat roots and derived words (e.g. 'dog' and 'dogs') as seperate, we need to reduce all words to their root form using a lemmatizer. You can read more about lemmatization <a href=\"https://nlp.stanford.edu/IR-book/html/htmledition/stemming-and-lemmatization-1.html\">here</a>."
   ]
  },
  {
   "cell_type": "code",
   "execution_count": 3,
   "metadata": {},
   "outputs": [
    {
     "name": "stderr",
     "output_type": "stream",
     "text": [
      "[nltk_data] Downloading package wordnet to\n",
      "[nltk_data]     C:\\Users\\manderson\\AppData\\Roaming\\nltk_data...\n",
      "[nltk_data]   Package wordnet is already up-to-date!\n"
     ]
    }
   ],
   "source": [
    "import nltk\n",
    "nltk.download('wordnet')\n",
    "from nltk.stem import WordNetLemmatizer\n",
    "lemmatizer = WordNetLemmatizer() \n",
    "\n",
    "def toBoW(rawText):\n",
    "    #TODO: remove non-words characters ,.?!/\\\"() etc.\n",
    "    BoW = rawText.translate(str.maketrans(\"\", \"\", '\",.?!/\\\\()'))\n",
    "    #TODO: Cast string to lower case. Think: is this always correct? (hint: look into NER)\n",
    "    BoW = BoW.lower()\n",
    "    #TODO: split text into words\n",
    "    BoW = BoW.split(' ')\n",
    "    \n",
    "    \n",
    "    #TODO: use the NLTK lemmatizer's lemmatize() function to reduce each word to it's root\n",
    "    BoW = [lemmatizer.lemmatize(word) for word in BoW]\n",
    "    return BoW\n",
    "\n",
    "for title in Tales:\n",
    "    Tales[title][\"text\"] = toBoW(Tales[title][\"text\"])\n",
    "    "
   ]
  },
  {
   "cell_type": "markdown",
   "metadata": {},
   "source": [
    "<h1 style=\"margin-top: 0px;\">TF-IDF</h1>\n",
    "<h2  style=\"margin-top: 5px; margin-bottom: 5px; margin-left: 20px;\">Step 1</h2>\n",
    "Build a list of all terms and their frequencies"
   ]
  },
  {
   "cell_type": "code",
   "execution_count": 4,
   "metadata": {},
   "outputs": [],
   "source": [
    "termIDFs = {}\n",
    "\n",
    "for title in Tales:\n",
    "    for word in Tales[title][\"text\"]:\n",
    "        \n",
    "        #TODO: add term if not in termlist\n",
    "        if word not in termIDFs:\n",
    "            termIDFs[word] = 1\n",
    "        #TODO: increment term count\n",
    "        else:\n",
    "            termIDFs[word] += 1\n",
    "            \n",
    "#TODO: calculate document frequency\n",
    "for word in termIDFs:\n",
    "    termIDFs[word] = np.log(len(Titles) / termIDFs[word])\n",
    "\n",
    "#TODO: create and order term list\n",
    "termList = [word for word in termIDFs]\n",
    "#TODO: create IDF vector\n",
    "IDFVector = np.array([termIDFs[word] for term in termList])"
   ]
  },
  {
   "cell_type": "markdown",
   "metadata": {},
   "source": [
    "<h2  style=\"margin-top: 5px; margin-bottom: 5px; margin-left: 20px;\">Step 2</h2>\n",
    "For each document, compute each terms' frequency and store it in a frequency vector"
   ]
  },
  {
   "cell_type": "code",
   "execution_count": 5,
   "metadata": {},
   "outputs": [],
   "source": [
    "def calcTFVec(document, featureList):\n",
    "    #TODO: initialize feature vector\n",
    "    frequencyVector = np.array([0 for _ in featureList])\n",
    "        \n",
    "    for word in document:\n",
    "        if word in featureList:\n",
    "            #TODO: update term count\n",
    "            frequencyVector[featureList.index(word)] += 1\n",
    "        \n",
    "    #TODO: calculate term frequency\n",
    "    frequencyVector = frequencyVector / len(document)\n",
    "        \n",
    "    return frequencyVector\n",
    "\n",
    "        \n",
    "for title in Tales:\n",
    "    Tales[title][\"freq\"] = calcTFVec(Tales[title][\"text\"], termList)\n",
    "    "
   ]
  },
  {
   "cell_type": "markdown",
   "metadata": {},
   "source": [
    "<h2  style=\"margin-top: 5px; margin-bottom: 5px; margin-left: 20px;\">Step 3</h2>\n",
    "Update the term frequencies by their combined document frequencies"
   ]
  },
  {
   "cell_type": "code",
   "execution_count": 6,
   "metadata": {},
   "outputs": [],
   "source": [
    "for title in Tales:\n",
    "    #TODO: set term frequency\n",
    "    Tales[title][\"freq\"] = Tales[title][\"freq\"] / IDFVector"
   ]
  },
  {
   "cell_type": "markdown",
   "metadata": {},
   "source": [
    "<h1 style=\"margin-top: 0px;\">K Means</h1>\n",
    "Run the K-Means algorithm on the document feature vectors to build document clusters"
   ]
  },
  {
   "cell_type": "code",
   "execution_count": 20,
   "metadata": {},
   "outputs": [],
   "source": [
    "from sklearn.cluster import KMeans\n",
    "\n",
    "def buildClusters(numClusters):\n",
    "    #TODO: build the feature vector\n",
    "    featureVectors = [Tales[title][\"freq\"] for title in Tales]\n",
    "    model = KMeans(n_clusters=numClusters, random_state=140)\n",
    "    model.fit(featureVectors)\n",
    "    \n",
    "    predictions = model.predict(featureVectors)\n",
    "    clusters = {\n",
    "                #TODO build document list\n",
    "                centerNumber: [Titles[i] for i in range(len(Titles)) if predictions[i] == centerNumber]\n",
    "                for centerNumber in predictions}\n",
    "    return model, clusters"
   ]
  },
  {
   "cell_type": "markdown",
   "metadata": {},
   "source": [
    "<h1 style=\"margin-top: 0px;\">Query the Documents</h1>\n",
    "Use TF weighted queries to select the nearest cluster of documents"
   ]
  },
  {
   "cell_type": "code",
   "execution_count": 21,
   "metadata": {},
   "outputs": [],
   "source": [
    "def query(question, model, clusters):\n",
    "    #TODO: calculate the question's feature vector\n",
    "    questionVec = calcTFVec(question, termList)\n",
    "        \n",
    "    # TODO: use the model to predict the most relevant cluster\n",
    "    pred = model.predict([questionVec])\n",
    "    relevantTitles =clusters[pred[0]]\n",
    "    return relevantTitles\n",
    "        "
   ]
  },
  {
   "cell_type": "markdown",
   "metadata": {},
   "source": [
    "<h1 style=\"margin-top: 0px;\">Test the Results</h1>\n",
    "Run preselected queries on the documents using different cluster sizes and graph the results"
   ]
  },
  {
   "cell_type": "code",
   "execution_count": 22,
   "metadata": {},
   "outputs": [
    {
     "name": "stdout",
     "output_type": "stream",
     "text": [
      "___________________Testing K = 2___________________\n",
      "___________________Testing K = 3___________________\n",
      "___________________Testing K = 4___________________\n",
      "___________________Testing K = 5___________________\n",
      "___________________Testing K = 6___________________\n",
      "___________________Testing K = 7___________________\n",
      "___________________Testing K = 8___________________\n",
      "___________________Testing K = 9___________________\n",
      "___________________Testing K = 10___________________\n",
      "___________________Testing K = 11___________________\n",
      "___________________Testing K = 12___________________\n",
      "___________________Testing K = 13___________________\n",
      "___________________Testing K = 14___________________\n"
     ]
    },
    {
     "data": {
      "image/png": "[encoded data removed]",
      "text/plain": [
       "<Figure size 432x288 with 1 Axes>"
      ]
     },
     "metadata": {
      "needs_background": "light"
     },
     "output_type": "display_data"
    }
   ],
   "source": [
    "groundTruth = [title for title in Tales if 'hair' in Tales[title]['text']]\n",
    "x = []\n",
    "y = []\n",
    "\n",
    "for K in [2, 3, 4, 5, 6, 7, 8, 9, 10, 11, 12, 13, 14]:\n",
    "    print('___________________Testing K = %i___________________' %K)\n",
    "    model, clusters = buildClusters(K)\n",
    "    \n",
    "    answer = query(\"What stories are about hair?\", model, clusters)\n",
    "    x.append(K)\n",
    "    y.append(len([title for title in groundTruth if title in answer])/len(answer))\n",
    "    \n",
    "import matplotlib.pyplot as plt\n",
    "plt.plot(x, y)\n",
    "plt.show()"
   ]
  },
  {
   "cell_type": "code",
   "execution_count": null,
   "metadata": {},
   "outputs": [],
   "source": []
  }
 ],
 "metadata": {
  "kernelspec": {
   "display_name": "Python 3",
   "language": "python",
   "name": "python3"
  },
  "language_info": {
   "codemirror_mode": {
    "name": "ipython",
    "version": 3
   },
   "file_extension": ".py",
   "mimetype": "text/x-python",
   "name": "python",
   "nbconvert_exporter": "python",
   "pygments_lexer": "ipython3",
   "version": "3.7.3"
  }
 },
 "nbformat": 4,
 "nbformat_minor": 2
}
