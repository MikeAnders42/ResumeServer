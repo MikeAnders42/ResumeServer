{
 "cells": [
  {
   "cell_type": "markdown",
   "metadata": {},
   "source": [
    "<h1>Building a Simple Search Engine: K-Means Text Clustering Using TF-IDF Weighting</h1>\n",
    "<p>\n",
    "Start by loading in the necessary libraries and the text of the Grimm Fairy Tales (<a href=\"https://www.cs.cmu.edu/~spok/grimmtmp/\">source</a>).\n",
    "</p>"
   ]
  },
  {
   "cell_type": "code",
   "execution_count": 5,
   "metadata": {},
   "outputs": [
    {
     "ename": "FileNotFoundError",
     "evalue": "[Errno 2] No such file or directory: 'Grimm.pkl'",
     "output_type": "error",
     "traceback": [
      "\u001b[1;31m---------------------------------------------------------------------------\u001b[0m",
      "\u001b[1;31mFileNotFoundError\u001b[0m                         Traceback (most recent call last)",
      "\u001b[1;32m<ipython-input-5-38df0967234a>\u001b[0m in \u001b[0;36m<module>\u001b[1;34m\u001b[0m\n\u001b[0;32m      2\u001b[0m \u001b[1;32mimport\u001b[0m \u001b[0mnumpy\u001b[0m \u001b[1;32mas\u001b[0m \u001b[0mnp\u001b[0m\u001b[1;33m\u001b[0m\u001b[1;33m\u001b[0m\u001b[0m\n\u001b[0;32m      3\u001b[0m \u001b[1;33m\u001b[0m\u001b[0m\n\u001b[1;32m----> 4\u001b[1;33m \u001b[0mTales\u001b[0m \u001b[1;33m=\u001b[0m \u001b[0mpickle\u001b[0m\u001b[1;33m.\u001b[0m\u001b[0mload\u001b[0m\u001b[1;33m(\u001b[0m\u001b[0mopen\u001b[0m\u001b[1;33m(\u001b[0m\u001b[1;34m'Grimm.pkl'\u001b[0m\u001b[1;33m,\u001b[0m \u001b[1;34m'rb'\u001b[0m\u001b[1;33m)\u001b[0m\u001b[1;33m)\u001b[0m\u001b[1;33m\u001b[0m\u001b[1;33m\u001b[0m\u001b[0m\n\u001b[0m\u001b[0;32m      5\u001b[0m \u001b[0mTitles\u001b[0m \u001b[1;33m=\u001b[0m \u001b[1;33m[\u001b[0m\u001b[0mtitle\u001b[0m \u001b[1;32mfor\u001b[0m \u001b[0mtitle\u001b[0m \u001b[1;32min\u001b[0m \u001b[0mTales\u001b[0m\u001b[1;33m]\u001b[0m\u001b[1;33m\u001b[0m\u001b[1;33m\u001b[0m\u001b[0m\n\u001b[0;32m      6\u001b[0m \u001b[1;31m# Tales is structed as a nested dictionary:\u001b[0m\u001b[1;33m\u001b[0m\u001b[1;33m\u001b[0m\u001b[1;33m\u001b[0m\u001b[0m\n",
      "\u001b[1;31mFileNotFoundError\u001b[0m: [Errno 2] No such file or directory: 'Grimm.pkl'"
     ]
    }
   ],
   "source": [
    "import pickle\n",
    "import numpy as np\n",
    "\n",
    "Tales = pickle.load(open('Grimm.pkl', 'rb'))\n",
    "Titles = [title for title in Tales]\n",
    "# Tales is structed as a nested dictionary:\n",
    "#   Tales:\n",
    "#     \"Cinderella\": \n",
    "#          \"text\": [\"There\", \"once\", \"was\", ...]\n",
    "#          ...\n"
   ]
  },
  {
   "cell_type": "markdown",
   "metadata": {},
   "source": [
    "<h1>Bag of Words</h1>\n",
    "Clean and split the raw text blocks  into words. Because we do not want to treat roots and derived words (e.g. 'dog' and 'dogs') as seperate, we need to reduce all words to their root form using a lemmatizer. You can read more about lemmatization <a href=\"https://nlp.stanford.edu/IR-book/html/htmledition/stemming-and-lemmatization-1.html\">here</a>."
   ]
  },
  {
   "cell_type": "code",
   "execution_count": null,
   "metadata": {},
   "outputs": [],
   "source": [
    "import nltk\n",
    "nltk.download('wordnet')\n",
    "from nltk.stem import WordNetLemmatizer \n",
    "lemmatizer = WordNetLemmatizer() \n",
    "\n",
    "def toBoW(rawText):\n",
    "    #TODO: remove non-words characters ,.?!/\\\"() etc.\n",
    "    BoW = rawText.translate(str.maketrans(\"\", \"\", 'CHARACTERS TO DELETE'))\n",
    "    #TODO: Cast string to lower case. Think: is this always correct? (hint: look into NER)\n",
    "    BoW = \n",
    "    #TODO: split text into words\n",
    "    BoW =\n",
    "    \n",
    "    \n",
    "    #TODO: use the NLTK lemmatizer's lemmatize() function to reduce each word to it's root\n",
    "    BoW = [ for word in BoW]\n",
    "    return BoW\n",
    "\n",
    "for title in Tales:\n",
    "    Tales[title][\"text\"] = toBoW(Tales[title][\"text\"])\n",
    "    "
   ]
  },
  {
   "cell_type": "markdown",
   "metadata": {},
   "source": [
    "<h1 style=\"margin-top: 0px;\">TF-IDF</h1>\n",
    "<h2  style=\"margin-top: 5px; margin-bottom: 5px; margin-left: 20px;\">Step 1</h2>\n",
    "Build a list of all terms and their frequencies"
   ]
  },
  {
   "cell_type": "code",
   "execution_count": null,
   "metadata": {},
   "outputs": [],
   "source": [
    "termIDFs = {}\n",
    "\n",
    "for title in Tales:\n",
    "    for word in Tales[title][\"text\"]:\n",
    "        \n",
    "        #TODO: add term if not in termlist\n",
    "        if :\n",
    "            \n",
    "        #TODO: increment term count\n",
    "        else:\n",
    "            \n",
    "#TODO: calculate document frequency\n",
    "for word in termIDFs:\n",
    "    termIDFs[word] = np.log(\n",
    "        \n",
    "#TODO: create and order term list\n",
    "termList = [\n",
    "#TODO: create IDF vector\n",
    "IDFVector = np.array([ for term in termList])"
   ]
  },
  {
   "cell_type": "markdown",
   "metadata": {},
   "source": [
    "<h2  style=\"margin-top: 5px; margin-bottom: 5px; margin-left: 20px;\">Step 2</h2>\n",
    "For each document, compute each terms' frequency and store it in a frequency vector"
   ]
  },
  {
   "cell_type": "code",
   "execution_count": null,
   "metadata": {},
   "outputs": [],
   "source": [
    "def calcTFVec(document, featureList):\n",
    "    #TODO: initialize feature vector\n",
    "    frequencyVector = np.array(\n",
    "        \n",
    "    for word in document:\n",
    "        if word in featureList:\n",
    "            #TODO: update term count\n",
    "        \n",
    "    #TODO: calculate term frequency\n",
    "        \n",
    "    return frequencyVector\n",
    "\n",
    "        \n",
    "for title in Tales:\n",
    "    Tales[title][\"freq\"] = calcTFVec(Tales[title][\"text\"], termList)\n",
    "    "
   ]
  },
  {
   "cell_type": "markdown",
   "metadata": {},
   "source": [
    "<h2  style=\"margin-top: 5px; margin-bottom: 5px; margin-left: 20px;\">Step 3</h2>\n",
    "Update the term frequencies by their combined document frequencies"
   ]
  },
  {
   "cell_type": "code",
   "execution_count": 3,
   "metadata": {},
   "outputs": [
    {
     "ename": "SyntaxError",
     "evalue": "invalid syntax (<ipython-input-3-080bf7be175d>, line 1)",
     "output_type": "error",
     "traceback": [
      "\u001b[1;36m  File \u001b[1;32m\"<ipython-input-3-080bf7be175d>\"\u001b[1;36m, line \u001b[1;32m1\u001b[0m\n\u001b[1;33m    For title in Tales:\u001b[0m\n\u001b[1;37m            ^\u001b[0m\n\u001b[1;31mSyntaxError\u001b[0m\u001b[1;31m:\u001b[0m invalid syntax\n"
     ]
    }
   ],
   "source": [
    "for title in Tales:\n",
    "    #TODO: set term frequency\n",
    "    Tales[title][\"freq\"] = "
   ]
  },
  {
   "cell_type": "markdown",
   "metadata": {},
   "source": [
    "<h1 style=\"margin-top: 0px;\">K Means</h1>\n",
    "Run the K-Means algorithm on the document feature vectors to build document clusters"
   ]
  },
  {
   "cell_type": "code",
   "execution_count": null,
   "metadata": {},
   "outputs": [],
   "source": [
    "from sklearn.cluster import KMeans\n",
    "\n",
    "def buildClusters(numClusters):\n",
    "    #TODO: build the feature vector\n",
    "    featureVectors = \n",
    "    model = KMeans(n_clusters=numClusters).fit(featureVectors)\n",
    "    \n",
    "    predictions = model.predict(featureVectors)\n",
    "    clusters = {\n",
    "                #TODO build document list\n",
    "                centerNumber: [Titles[i] for i in range(len(Titles)) if ]\n",
    "                for centerNumber in predictions}\n",
    "    return model, clusters\n",
    "    \n",
    "    "
   ]
  },
  {
   "cell_type": "markdown",
   "metadata": {},
   "source": [
    "<h1 style=\"margin-top: 0px;\">Query the Documents</h1>\n",
    "Use TF weighted queries to select the nearest cluster of documents"
   ]
  },
  {
   "cell_type": "code",
   "execution_count": null,
   "metadata": {},
   "outputs": [],
   "source": [
    "def query(question, model, clusters):\n",
    "    #TODO: calculate the question's feature vector\n",
    "    questionVec = calcTFVec(\n",
    "        \n",
    "    # TODO: use the model to predict the most relevant cluster\n",
    "    relevantTitles = \n",
    "    return relevantTitles\n",
    "        "
   ]
  },
  {
   "cell_type": "markdown",
   "metadata": {},
   "source": [
    "<h1 style=\"margin-top: 0px;\">Test the Results</h1>\n",
    "Run preselected queries on the documents using different cluster sizes and graph the results"
   ]
  },
  {
   "cell_type": "code",
   "execution_count": 1,
   "metadata": {},
   "outputs": [
    {
     "ename": "SyntaxError",
     "evalue": "invalid syntax (<ipython-input-1-63b3c40ded50>, line 14)",
     "output_type": "error",
     "traceback": [
      "\u001b[1;36m  File \u001b[1;32m\"<ipython-input-1-63b3c40ded50>\"\u001b[1;36m, line \u001b[1;32m14\u001b[0m\n\u001b[1;33m    import matplotlib.pyplot as plt\u001b[0m\n\u001b[1;37m         ^\u001b[0m\n\u001b[1;31mSyntaxError\u001b[0m\u001b[1;31m:\u001b[0m invalid syntax\n"
     ]
    }
   ],
   "source": [
    "groundTruth = [title for title in Tales if 'hair' in Tales[title]['text']]\n",
    "x = []\n",
    "y = []\n",
    "\n",
    "for K in [2, 3, 4, 5, 6, 7, 8, 9 10, 11, 12, 13, 14, 15]:\n",
    "    print('___________________Testing K = %i___________________' %K)\n",
    "    model, clusters = buildClusters(K)\n",
    "    \n",
    "    answer = query(\"What stories are about hair?\", model, clusters)\n",
    "    #TODO: add your preferred accuracy metric here\n",
    "    x.append(K)\n",
    "    y.append(\n",
    "    \n",
    "import matplotlib.pyplot as plt\n",
    "plt.plot(x, y)\n",
    "plt.show()\n",
    "    "
   ]
  },
  {
   "cell_type": "code",
   "execution_count": null,
   "metadata": {},
   "outputs": [],
   "source": []
  }
 ],
 "metadata": {
  "kernelspec": {
   "display_name": "Python 3",
   "language": "python",
   "name": "python3"
  },
  "language_info": {
   "codemirror_mode": {
    "name": "ipython",
    "version": 3
   },
   "file_extension": ".py",
   "mimetype": "text/x-python",
   "name": "python",
   "nbconvert_exporter": "python",
   "pygments_lexer": "ipython3",
   "version": "3.7.3"
  }
 },
 "nbformat": 4,
 "nbformat_minor": 2
}
